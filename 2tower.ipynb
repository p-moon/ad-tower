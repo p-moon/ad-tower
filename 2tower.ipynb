{
 "cells": [
  {
   "cell_type": "code",
   "execution_count": 11,
   "metadata": {},
   "outputs": [
    {
     "data": {
      "text/plain": [
       "device(type='cuda')"
      ]
     },
     "execution_count": 11,
     "metadata": {},
     "output_type": "execute_result"
    }
   ],
   "source": [
    "import requests\n",
    "import os\n",
    "import zipfile\n",
    "import torch\n",
    "import pandas as pd\n",
    "import numpy as np\n",
    "from sklearn.model_selection import train_test_split\n",
    "from torch.utils.data import DataLoader\n",
    "from torch.utils.data import TensorDataset\n",
    "from tqdm import tqdm\n",
    "\n",
    "import torch\n",
    "import torch.nn as nn\n",
    "import torch.nn.functional as F\n",
    "import wandb\n",
    "\n",
    "device = torch.device(\"cuda\" if torch.cuda.is_available() else \"cpu\")\n",
    "device"
   ]
  },
  {
   "cell_type": "code",
   "execution_count": 12,
   "metadata": {},
   "outputs": [
    {
     "data": {
      "text/html": [
       "<div>\n",
       "<style scoped>\n",
       "    .dataframe tbody tr th:only-of-type {\n",
       "        vertical-align: middle;\n",
       "    }\n",
       "\n",
       "    .dataframe tbody tr th {\n",
       "        vertical-align: top;\n",
       "    }\n",
       "\n",
       "    .dataframe thead th {\n",
       "        text-align: right;\n",
       "    }\n",
       "</style>\n",
       "<table border=\"1\" class=\"dataframe\">\n",
       "  <thead>\n",
       "    <tr style=\"text-align: right;\">\n",
       "      <th></th>\n",
       "      <th>user_id</th>\n",
       "      <th>movie_id</th>\n",
       "      <th>rating</th>\n",
       "      <th>timestamp</th>\n",
       "    </tr>\n",
       "  </thead>\n",
       "  <tbody>\n",
       "    <tr>\n",
       "      <th>0</th>\n",
       "      <td>1</td>\n",
       "      <td>1193</td>\n",
       "      <td>5</td>\n",
       "      <td>978300760</td>\n",
       "    </tr>\n",
       "    <tr>\n",
       "      <th>1</th>\n",
       "      <td>1</td>\n",
       "      <td>661</td>\n",
       "      <td>3</td>\n",
       "      <td>978302109</td>\n",
       "    </tr>\n",
       "    <tr>\n",
       "      <th>2</th>\n",
       "      <td>1</td>\n",
       "      <td>914</td>\n",
       "      <td>3</td>\n",
       "      <td>978301968</td>\n",
       "    </tr>\n",
       "    <tr>\n",
       "      <th>3</th>\n",
       "      <td>1</td>\n",
       "      <td>3408</td>\n",
       "      <td>4</td>\n",
       "      <td>978300275</td>\n",
       "    </tr>\n",
       "    <tr>\n",
       "      <th>4</th>\n",
       "      <td>1</td>\n",
       "      <td>2355</td>\n",
       "      <td>5</td>\n",
       "      <td>978824291</td>\n",
       "    </tr>\n",
       "  </tbody>\n",
       "</table>\n",
       "</div>"
      ],
      "text/plain": [
       "   user_id  movie_id  rating  timestamp\n",
       "0        1      1193       5  978300760\n",
       "1        1       661       3  978302109\n",
       "2        1       914       3  978301968\n",
       "3        1      3408       4  978300275\n",
       "4        1      2355       5  978824291"
      ]
     },
     "execution_count": 12,
     "metadata": {},
     "output_type": "execute_result"
    }
   ],
   "source": [
    "# 下载和解压数据集\n",
    "if not os.path.exists(\"./dataset\"):\n",
    "    os.mkdir(\"dataset\")\n",
    "    url = \"https://files.grouplens.org/datasets/movielens/ml-1m.zip\"\n",
    "    zip_content = requests.get(url=url).content\n",
    "    file_path = \"./dataset/ml-1m.zip\"\n",
    "    with open(file_path, \"wb\") as f:\n",
    "        f.write(zip_content)\n",
    "\n",
    "    with zipfile.ZipFile(file_path, \"r\") as zip_ref:\n",
    "        zip_ref.extractall(\"./dataset\")\n",
    "\n",
    "dataset_path = \"./dataset/ml-1m\"\n",
    "\n",
    "ratings = pd.read_csv(os.path.join(dataset_path, \"ratings.dat\"), sep='::', engine='python', names=['user_id', 'movie_id', 'rating', 'timestamp'])\n",
    "ratings.head()\n",
    "\n",
    "\n"
   ]
  },
  {
   "cell_type": "code",
   "execution_count": 13,
   "metadata": {},
   "outputs": [
    {
     "data": {
      "text/plain": [
       "(array([   1,    2,    3, ..., 6038, 6039, 6040]),\n",
       " array([1193,  661,  914, ..., 2845, 3607, 2909]))"
      ]
     },
     "execution_count": 13,
     "metadata": {},
     "output_type": "execute_result"
    }
   ],
   "source": [
    "# 创建用户和电影ID的映射\n",
    "original_user_ids = ratings['user_id'].unique()\n",
    "original_movie_ids = ratings['movie_id'].unique()\n",
    "original_user_ids, original_movie_ids"
   ]
  },
  {
   "cell_type": "code",
   "execution_count": 14,
   "metadata": {},
   "outputs": [],
   "source": [
    "\n",
    "user_id_map = {id: idx for idx, id in enumerate(original_user_ids)}\n",
    "movie_id_map = {id: idx for idx, id in enumerate(original_movie_ids)}\n"
   ]
  },
  {
   "cell_type": "code",
   "execution_count": 15,
   "metadata": {},
   "outputs": [
    {
     "data": {
      "text/plain": [
       "(        user_id  movie_id  rating  timestamp\n",
       " 416292     2506        76       2  974076680\n",
       " 683230     4086       897       4  965431652\n",
       " 2434         18       151       3  978146863\n",
       " 688533     4117         7       4  965804599\n",
       " 472584     2906       518       4  971838472,\n",
       "         user_id  movie_id  rating  timestamp\n",
       " 895536     5411       352       2  960243649\n",
       " 899739     5439       629       5  959995181\n",
       " 55687       367       387       4  976311423\n",
       " 63727       424        27       4  976283587\n",
       " 822011     4941      1674       1  962642480)"
      ]
     },
     "execution_count": 15,
     "metadata": {},
     "output_type": "execute_result"
    }
   ],
   "source": [
    "\n",
    "# 应用映射\n",
    "ratings['user_id'] = ratings['user_id'].map(user_id_map)\n",
    "ratings['movie_id'] = ratings['movie_id'].map(movie_id_map)\n",
    "\n",
    "# 将数据集分为训练集和测试集\n",
    "train_data, test_data = train_test_split(ratings, test_size=0.2, random_state=42)\n",
    "train_data.head(), test_data.head()"
   ]
  },
  {
   "cell_type": "code",
   "execution_count": 16,
   "metadata": {},
   "outputs": [],
   "source": [
    "class MultiHeadSelfAttention(nn.Module):\n",
    "    def __init__(self, emb_size, num_heads):\n",
    "        super(MultiHeadSelfAttention, self).__init__()\n",
    "        assert emb_size % num_heads == 0, \"Embedding size must be divisible by number of heads\"\n",
    "        self.emb_size = emb_size\n",
    "        self.num_heads = num_heads\n",
    "        self.head_dim = emb_size // num_heads\n",
    "\n",
    "        self.query = nn.Linear(emb_size, emb_size)\n",
    "        self.key = nn.Linear(emb_size, emb_size)\n",
    "        self.value = nn.Linear(emb_size, emb_size)\n",
    "        self.fc_out = nn.Linear(emb_size, emb_size)\n",
    "\n",
    "    def forward(self, user_emb, item_embs):\n",
    "        batch_size = user_emb.shape[0]\n",
    "\n",
    "        # Linear projections\n",
    "        queries = self.query(user_emb).view(batch_size, self.num_heads, self.head_dim)\n",
    "        keys = self.key(item_embs).view(batch_size, -1, self.num_heads, self.head_dim)\n",
    "        values = self.value(item_embs).view(batch_size, -1, self.num_heads, self.head_dim)\n",
    "\n",
    "        # Scaled Dot-Product Attention\n",
    "        energy = torch.einsum(\"bhq,bnhk->bhqn\", [queries, keys])\n",
    "        attention = torch.softmax(energy / (self.head_dim ** (1/2)), dim=3)\n",
    "\n",
    "        out = torch.einsum(\"bhqn,bnhk->bhqk\", [attention, values]).reshape(batch_size, -1, self.emb_size)\n",
    "        out = self.fc_out(out)\n",
    "\n",
    "        # Sum over the sequence dimension to get the final user representation\n",
    "        user_rep = torch.sum(out, dim=1)\n",
    "        return user_rep\n"
   ]
  },
  {
   "cell_type": "code",
   "execution_count": 17,
   "metadata": {},
   "outputs": [],
   "source": [
    "class UserTower(nn.Module):\n",
    "    def __init__(self, user_num, item_num, emb_size, hidden_size, num_heads):\n",
    "        super(UserTower, self).__init__()\n",
    "        self.user_emb = nn.Embedding(user_num, emb_size)\n",
    "        self.item_emb = nn.Embedding(item_num, emb_size)\n",
    "        self.self_attention = MultiHeadSelfAttention(emb_size, num_heads)\n",
    "        self.fc1 = nn.Linear(emb_size * 2, hidden_size)\n",
    "        self.fc2 = nn.Linear(hidden_size, emb_size)\n",
    "\n",
    "    def forward(self, user_id, item_ids):\n",
    "        user_emb = self.user_emb(user_id)  # (batch_size, emb_size)\n",
    "        item_embs = self.item_emb(item_ids)  # (batch_size, seq_len, emb_size)\n",
    "        user_rep = self.self_attention(user_emb, item_embs)  # (batch_size, emb_size)\n",
    "        # 将用户表示和用户嵌入拼接\n",
    "        user_rep = torch.cat((user_emb, user_rep), dim=1)  # (batch_size, emb_size * 2)\n",
    "        # 通过MLP得到最终的 user tower 输出\n",
    "        user_rep = F.relu(self.fc1(user_rep))\n",
    "        user_rep = self.fc2(user_rep)\n",
    "        return user_rep\n",
    "\n",
    "class ItemTower(nn.Module):\n",
    "    def __init__(self, item_num, emb_size, hidden_size):\n",
    "        super(ItemTower, self).__init__()\n",
    "        self.item_emb = nn.Embedding(item_num, emb_size)\n",
    "        self.fc1 = nn.Linear(emb_size, hidden_size)\n",
    "        self.fc2 = nn.Linear(hidden_size, emb_size)\n",
    "\n",
    "    def forward(self, item_id):\n",
    "        item_emb = self.item_emb(item_id)\n",
    "        # 通过MLP得到最终的 item tower 输出\n",
    "        item_rep = F.relu(self.fc1(item_emb))\n",
    "        item_rep = self.fc2(item_rep)\n",
    "        return item_rep\n"
   ]
  },
  {
   "cell_type": "code",
   "execution_count": 18,
   "metadata": {},
   "outputs": [],
   "source": [
    "def train_model(user_tower, item_tower, user_id, item_ids, ratings, optimizer):\n",
    "    user_id = user_id.to(device)\n",
    "    item_ids = item_ids.to(device)\n",
    "    ratings = ratings.to(device)\n",
    "    user_tower.train()\n",
    "    item_tower.train()\n",
    "    optimizer.zero_grad()\n",
    "    user_rep = user_tower(user_id, item_ids)\n",
    "    item_rep = item_tower(item_ids)\n",
    "    # 计算预测评分\n",
    "    pred_scores = torch.sum(user_rep * item_rep, dim=1)\n",
    "    loss = F.mse_loss(pred_scores, ratings)\n",
    "    loss.backward()\n",
    "    optimizer.step()\n",
    "    return loss.item()\n",
    "\n",
    "def evaluate_model(user_tower, item_tower, data_loader):\n",
    "    user_tower.eval()\n",
    "    item_tower.eval()\n",
    "    total_loss = 0\n",
    "    total_samples = 0\n",
    "    with torch.no_grad():\n",
    "        for batch in data_loader:\n",
    "            user_id, item_ids, ratings = batch\n",
    "            user_id = user_id.to(device)\n",
    "            item_ids = item_ids.to(device)\n",
    "            ratings = ratings.to(device)\n",
    "            user_rep = user_tower(user_id, item_ids)\n",
    "            item_rep = item_tower(item_ids)\n",
    "            # 计算预测评分\n",
    "            pred_scores = torch.sum(user_rep * item_rep, dim=1)\n",
    "            loss = F.mse_loss(pred_scores, ratings, reduction='sum')\n",
    "            total_loss += loss.item()\n",
    "            total_samples += ratings.size(0)\n",
    "    rmse = np.sqrt(total_loss / total_samples)\n",
    "    return rmse\n",
    "\n"
   ]
  },
  {
   "cell_type": "code",
   "execution_count": 19,
   "metadata": {},
   "outputs": [],
   "source": [
    "user_num = len(user_id_map)\n",
    "item_num = len(movie_id_map)\n",
    "\n",
    "# 创建TensorDataset时，将用户ID和电影ID转换为浮点数\n",
    "train_dataset = TensorDataset(torch.tensor(train_data['user_id'].values, dtype=torch.long), \n",
    "                              torch.tensor(train_data['movie_id'].values, dtype=torch.long), \n",
    "                              torch.tensor(train_data['rating'].values, dtype=torch.float))  # 将rating转换为torch.float\n",
    "\n",
    "test_dataset = TensorDataset(torch.tensor(test_data['user_id'].values, dtype=torch.long), \n",
    "                             torch.tensor(test_data['movie_id'].values, dtype=torch.long), \n",
    "                             torch.tensor(test_data['rating'].values, dtype=torch.float))  # 将rating转换为torch.float\n",
    "\n",
    "emb_size = 64\n",
    "hidden_size = 128\n",
    "num_heads = 8\n",
    "batch_size = 16  # 减小 batch size 以减少显存使用\n",
    "epochs = 10\n",
    "learning_rate = 0.001\n"
   ]
  },
  {
   "cell_type": "code",
   "execution_count": 20,
   "metadata": {},
   "outputs": [
    {
     "name": "stderr",
     "output_type": "stream",
     "text": [
      "Failed to detect the name of this notebook, you can set it manually with the WANDB_NOTEBOOK_NAME environment variable to enable code saving.\n",
      "\u001b[34m\u001b[1mwandb\u001b[0m: Currently logged in as: \u001b[33mp-moon\u001b[0m (\u001b[33mmoon-ai\u001b[0m). Use \u001b[1m`wandb login --relogin`\u001b[0m to force relogin\n"
     ]
    },
    {
     "data": {
      "text/html": [
       "wandb version 0.17.0 is available!  To upgrade, please run:\n",
       " $ pip install wandb --upgrade"
      ],
      "text/plain": [
       "<IPython.core.display.HTML object>"
      ]
     },
     "metadata": {},
     "output_type": "display_data"
    },
    {
     "data": {
      "text/html": [
       "Tracking run with wandb version 0.16.6"
      ],
      "text/plain": [
       "<IPython.core.display.HTML object>"
      ]
     },
     "metadata": {},
     "output_type": "display_data"
    },
    {
     "data": {
      "text/html": [
       "Run data is saved locally in <code>/home/brand/develop/2tower/wandb/run-20240527_163049-b6of4mzg</code>"
      ],
      "text/plain": [
       "<IPython.core.display.HTML object>"
      ]
     },
     "metadata": {},
     "output_type": "display_data"
    },
    {
     "data": {
      "text/html": [
       "Syncing run <strong><a href='https://wandb.ai/moon-ai/user-item-tower/runs/b6of4mzg' target=\"_blank\">gallant-tree-6</a></strong> to <a href='https://wandb.ai/moon-ai/user-item-tower' target=\"_blank\">Weights & Biases</a> (<a href='https://wandb.me/run' target=\"_blank\">docs</a>)<br/>"
      ],
      "text/plain": [
       "<IPython.core.display.HTML object>"
      ]
     },
     "metadata": {},
     "output_type": "display_data"
    },
    {
     "data": {
      "text/html": [
       " View project at <a href='https://wandb.ai/moon-ai/user-item-tower' target=\"_blank\">https://wandb.ai/moon-ai/user-item-tower</a>"
      ],
      "text/plain": [
       "<IPython.core.display.HTML object>"
      ]
     },
     "metadata": {},
     "output_type": "display_data"
    },
    {
     "data": {
      "text/html": [
       " View run at <a href='https://wandb.ai/moon-ai/user-item-tower/runs/b6of4mzg' target=\"_blank\">https://wandb.ai/moon-ai/user-item-tower/runs/b6of4mzg</a>"
      ],
      "text/plain": [
       "<IPython.core.display.HTML object>"
      ]
     },
     "metadata": {},
     "output_type": "display_data"
    },
    {
     "data": {
      "text/plain": [
       "(UserTower(\n",
       "   (user_emb): Embedding(6040, 64)\n",
       "   (item_emb): Embedding(3706, 64)\n",
       "   (self_attention): MultiHeadSelfAttention(\n",
       "     (query): Linear(in_features=64, out_features=64, bias=True)\n",
       "     (key): Linear(in_features=64, out_features=64, bias=True)\n",
       "     (value): Linear(in_features=64, out_features=64, bias=True)\n",
       "     (fc_out): Linear(in_features=64, out_features=64, bias=True)\n",
       "   )\n",
       "   (fc1): Linear(in_features=128, out_features=128, bias=True)\n",
       "   (fc2): Linear(in_features=128, out_features=64, bias=True)\n",
       " ),\n",
       " ItemTower(\n",
       "   (item_emb): Embedding(3706, 64)\n",
       "   (fc1): Linear(in_features=64, out_features=128, bias=True)\n",
       "   (fc2): Linear(in_features=128, out_features=64, bias=True)\n",
       " ))"
      ]
     },
     "execution_count": 20,
     "metadata": {},
     "output_type": "execute_result"
    }
   ],
   "source": [
    "\n",
    "# 初始化wandb\n",
    "wandb.init(project=\"user-item-tower\", config={\n",
    "    \"emb_size\": emb_size,\n",
    "    \"hidden_size\": hidden_size,\n",
    "    \"num_heads\": num_heads,\n",
    "    \"batch_size\": batch_size,\n",
    "    \"epochs\": epochs,\n",
    "    \"learning_rate\": learning_rate\n",
    "})\n",
    "\n",
    "user_tower = UserTower(user_num, item_num, emb_size, hidden_size, num_heads)\n",
    "item_tower = ItemTower(item_num, emb_size, hidden_size)\n",
    "\n",
    "user_tower.to(device)\n",
    "item_tower.to(device)\n",
    "user_tower, item_tower"
   ]
  },
  {
   "cell_type": "code",
   "execution_count": 21,
   "metadata": {},
   "outputs": [
    {
     "name": "stderr",
     "output_type": "stream",
     "text": [
      "  6%|▌         | 30141/500110 [00:46<11:46, 665.66it/s, Loss=1.07, LR=0.001] "
     ]
    }
   ],
   "source": [
    "optimizer = torch.optim.Adam(list(user_tower.parameters()) + list(item_tower.parameters()), lr=learning_rate)\n",
    "# 创建DataLoader\n",
    "train_loader = DataLoader(train_dataset, batch_size=batch_size, shuffle=True)\n",
    "test_loader = DataLoader(test_dataset, batch_size=batch_size, shuffle=False)\n",
    "\n",
    "with tqdm(total=epochs * len(train_loader)) as pbar:\n",
    "    for epoch in range(epochs):\n",
    "        epoch_loss = 0\n",
    "        for batch in train_loader:\n",
    "            user_ids, item_ids, ratings = batch\n",
    "            loss = train_model(user_tower, item_tower, user_ids, item_ids, ratings, optimizer)\n",
    "            epoch_loss += loss\n",
    "            pbar.set_postfix({'Loss': loss, 'LR': optimizer.param_groups[0]['lr']})\n",
    "            pbar.update()\n",
    "        # 记录每个epoch的平均训练损失\n",
    "        wandb.log({\"Train Loss\": epoch_loss / len(train_loader)})\n",
    "\n",
    "        # 在每个epoch结束时评估模型\n",
    "        rmse = evaluate_model(user_tower, item_tower, test_loader)\n",
    "        wandb.log({\"Test RMSE\": rmse})\n",
    "        print(f'Epoch {epoch + 1}/{epochs}, Test RMSE: {rmse}')\n",
    "\n",
    "# 结束wandb\n",
    "wandb.finish()\n",
    "\n"
   ]
  },
  {
   "cell_type": "code",
   "execution_count": null,
   "metadata": {},
   "outputs": [],
   "source": [
    "\n",
    "if not os.path.exists(\"./models\"):\n",
    "    os.mkdir(\"models\")\n",
    "\n",
    "torch.save({\n",
    "    'user_tower_state_dict': user_tower.state_dict(),\n",
    "    'item_tower_state_dict': item_tower.state_dict(),\n",
    "    'optimizer_state_dict': optimizer.state_dict(),\n",
    "    'epoch': epoch,\n",
    "    'train_loss': epoch_loss,\n",
    "    'test_rmse': rmse\n",
    "}, './models/model_checkpoint.pth')\n",
    "# 加载模型\n"
   ]
  },
  {
   "cell_type": "code",
   "execution_count": null,
   "metadata": {},
   "outputs": [],
   "source": [
    "checkpoint = torch.load('./models/model_checkpoint.pth')\n",
    "\n",
    "user_tower.load_state_dict(checkpoint['user_tower_state_dict'])\n",
    "item_tower.load_state_dict(checkpoint['item_tower_state_dict'])\n",
    "optimizer.load_state_dict(checkpoint['optimizer_state_dict'])\n",
    "epoch = checkpoint['epoch']\n",
    "train_loss = checkpoint['train_loss']\n",
    "test_rmse = checkpoint['test_rmse']\n",
    "\n",
    "# 设置模型为推理模式\n",
    "user_tower.eval()\n",
    "item_tower.eval()\n",
    "user_tower, item_tower"
   ]
  }
 ],
 "metadata": {
  "kernelspec": {
   "display_name": "stable-diffusion-train",
   "language": "python",
   "name": "python3"
  },
  "language_info": {
   "codemirror_mode": {
    "name": "ipython",
    "version": 3
   },
   "file_extension": ".py",
   "mimetype": "text/x-python",
   "name": "python",
   "nbconvert_exporter": "python",
   "pygments_lexer": "ipython3",
   "version": "3.10.14"
  }
 },
 "nbformat": 4,
 "nbformat_minor": 2
}
